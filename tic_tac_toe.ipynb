{
  "nbformat": 4,
  "nbformat_minor": 0,
  "metadata": {
    "colab": {
      "name": "tic-tac toe.ipynb",
      "version": "0.3.2",
      "views": {},
      "default_view": {},
      "provenance": [],
      "collapsed_sections": []
    },
    "kernelspec": {
      "name": "python3",
      "display_name": "Python 3"
    }
  },
  "cells": [
    {
      "metadata": {
        "id": "FFnl-ah_wFsm",
        "colab_type": "text"
      },
      "cell_type": "markdown",
      "source": [
        "This is an implementation of a tabular reinforcement learning agent that plays tic tac toe, as descibed in  Sutton and Barto's \"Reinfrocement Learning, an introduction\""
      ]
    },
    {
      "metadata": {
        "id": "VVWrx_VU0Aby",
        "colab_type": "code",
        "colab": {
          "autoexec": {
            "startup": false,
            "wait_interval": 0
          }
        }
      },
      "cell_type": "code",
      "source": [
        "import math\n",
        "import random\n",
        "from collections import deque\n",
        "import numpy as np\n",
        "import matplotlib.pyplot as plt\n"
      ],
      "execution_count": 0,
      "outputs": []
    },
    {
      "metadata": {
        "id": "-xjGHh79wV6z",
        "colab_type": "text"
      },
      "cell_type": "markdown",
      "source": [
        "We first need to define a function, which returns all the possible actions that a player can make in a given game state\n",
        "\n",
        "For the sake of simplicty states will be represented by lists of 9 elements, each corresponding to one tile within the tic tac toe board"
      ]
    },
    {
      "metadata": {
        "id": "INY50HjI0J9f",
        "colab_type": "code",
        "colab": {
          "autoexec": {
            "startup": false,
            "wait_interval": 0
          }
        }
      },
      "cell_type": "code",
      "source": [
        "def getPossibleActions(player,state):\n",
        "  states = []\n",
        "  for q in range(9):\n",
        "    if state[q] == 0:\n",
        "      \n",
        "      newstate = state[:]\n",
        "      newstate[q] = player\n",
        "      states.append(newstate)\n",
        "  return states\n",
        "      "
      ],
      "execution_count": 0,
      "outputs": []
    },
    {
      "metadata": {
        "id": "UhZLJO5TwpDT",
        "colab_type": "text"
      },
      "cell_type": "markdown",
      "source": [
        "NExt step is a function for checking if the game is finished and what the outcome is.\n",
        "The function checks all verticals and horizontal of the boards as well as the diagonals. Finally it checks for draw as well. \n",
        "It returns 0 for non-terminal states, 1 when p1 has won, 2 when p2 has won and 3 when the game ended in a draw"
      ]
    },
    {
      "metadata": {
        "id": "v5e93inJ1a38",
        "colab_type": "code",
        "colab": {
          "autoexec": {
            "startup": false,
            "wait_interval": 0
          }
        }
      },
      "cell_type": "code",
      "source": [
        "def checkTerminal(state):\n",
        "  \n",
        "  for q in range(3):\n",
        "    if state[3*q] == state[3*q +1] and state[3*q] == state[3*q+2] and state[3*q] != 0:\n",
        "      return state[3*q]\n",
        "    if state[q] == state[q + 3] and state[q] == state[q + 6] and state[q] != 0:\n",
        "      return state[q]\n",
        "  if state[0] == state[4] and state[0] == state[8] and state[0] != 0:\n",
        "    return state[0]\n",
        "  if state[2] == state[4] and state[2] == state[6] and state[2] != 0:\n",
        "    return state[2]\n",
        "  \n",
        "  if state.count(0) == 0:\n",
        "    return 3\n",
        "    \n",
        "  return 0"
      ],
      "execution_count": 0,
      "outputs": []
    },
    {
      "metadata": {
        "id": "tSybh9EWxKd5",
        "colab_type": "text"
      },
      "cell_type": "markdown",
      "source": [
        "The class for the RL agent\n",
        "It keeps a table of all the states that have been visited and their values\n",
        "At the end of each episode the values are updated\n",
        "\n",
        "This approach uses state values V(S), defines as V(S) = r +γ V(S')\n",
        "where S' is the state ovserved after S and γ is the discount factor\n"
      ]
    },
    {
      "metadata": {
        "id": "ZOSxRiyd3yUp",
        "colab_type": "code",
        "colab": {
          "autoexec": {
            "startup": false,
            "wait_interval": 0
          }
        }
      },
      "cell_type": "code",
      "source": [
        "\n",
        "class agent:\n",
        "  \n",
        "  def __init__(self):\n",
        "    self.gamma = 0.999 #discount factor\n",
        "    self.alpha = 0.01 #learning rate\n",
        "    self.visited = [] #list of all states that have been visited\n",
        "    self.values = []  #correspndonig values of visited states\n",
        "  \n",
        "  #Updates the values of all states that have been visited in one episode\n",
        "  def update(self,hist,reward):\n",
        "    hist.reverse() #we go backwards, for easier computation of state values\n",
        "    \n",
        "    g = self.gamma #scaling of state value for time distance to rewrd \n",
        "    \n",
        "    for state in hist:\n",
        "      if state not in self.visited: #if state is not visited, set value to first observed value\n",
        "        self.visited.append(state)\n",
        "        self.values.append(reward*g)\n",
        "      else: #else add alpha*observed value to current value\n",
        "        i = self.visited.index(state)\n",
        "        self.values[i] += self.alpha*g*reward\n",
        "      \n",
        "   \n",
        "  #function for picking an action in a given state\n",
        "  def pickAction(self,actions,e = 0.2):\n",
        "    q = []\n",
        "    for action in actions:\n",
        "      if action in self.visited:\n",
        "        q.append(self.values[self.visited.index(action)])\n",
        "      else:\n",
        "        q.append(0)\n",
        "        \n",
        "    if random.random() > e:\n",
        "      return q.index(max(q))\n",
        "    else:\n",
        "      return random.randint(0,len(q)-1)\n",
        "     \n",
        "   \n",
        "      \n",
        "\n"
      ],
      "execution_count": 0,
      "outputs": []
    },
    {
      "metadata": {
        "id": "EJsqfBDvzSUI",
        "colab_type": "text"
      },
      "cell_type": "markdown",
      "source": [
        "The next step is to simulate a few thousand games in which two agents will be learning by playing verus each other"
      ]
    },
    {
      "metadata": {
        "id": "4tu4hSQ94_Ni",
        "colab_type": "code",
        "colab": {
          "autoexec": {
            "startup": false,
            "wait_interval": 0
          }
        }
      },
      "cell_type": "code",
      "source": [
        "#the two agents\n",
        "ag1 = agent()\n",
        "ag2 = agent()\n",
        "\n",
        "#for keeping track of performance histories\n",
        "perf = deque(maxlen = 100) \n",
        "perfh = np.zeros(0)\n",
        "perfh2 = np.zeros(0)\n",
        "perfh3 = np.zeros(0)\n",
        "\n",
        "\n",
        "for game in range(100000):\n",
        "  #observation histories for both players\n",
        "  h1 = [] \n",
        "  h2 = []\n",
        "  \n",
        "  \n",
        "  perfh = np.append(perfh,perf.count(1)/100)\n",
        "  perfh2 = np.append(perfh2,perf.count(0)/100)\n",
        "  perfh3 = np.append(perfh3,perf.count(-1)/100)\n",
        "  state = [0,0,0,0,0,0,0,0,0] #inital game board\n",
        "  \n",
        "  \n",
        "  while True:\n",
        "    \n",
        "    p1actions = getPossibleActions(1,state)\n",
        "    \n",
        "    a = ag1.pickAction(p1actions)\n",
        "    state = p1actions[int(a)]\n",
        "    h1.append(state)\n",
        "\n",
        "    r = checkTerminal(state)\n",
        "\n",
        "    if(r == 1):\n",
        "    \n",
        "      \n",
        "      ag1.update(h1,1)\n",
        "      ag2.update(h2,-1)\n",
        "      \n",
        "      perf.append(1)\n",
        "      break\n",
        "    if(r == 3):\n",
        "     \n",
        "     \n",
        "      ag1.update(h1,0)\n",
        "      ag2.update(h2,0)\n",
        "      perf.append(0)\n",
        "      break\n",
        "\n",
        "    p2actions = getPossibleActions(2,state)\n",
        "    \n",
        "    a = ag2.pickAction(p2actions)\n",
        "    state = p2actions[int(a)]\n",
        "    h2.append(state)\n",
        "    r = checkTerminal(state)\n",
        "\n",
        "    if(r == 2):\n",
        "     \n",
        "      \n",
        "      ag1.update(h1,-1)\n",
        "      ag2.update(h2,1)\n",
        "      perf.append(-1)\n",
        "      break\n",
        "    if(r == 3):\n",
        "      \n",
        "      \n",
        "      ag1.update(h1,0)\n",
        "      ag2.update(h2,0)\n",
        "      perf.append(0)\n",
        "      break\n",
        "\n",
        "\n",
        "  "
      ],
      "execution_count": 0,
      "outputs": []
    },
    {
      "metadata": {
        "id": "k0U0XLN802OH",
        "colab_type": "text"
      },
      "cell_type": "markdown",
      "source": [
        "Moving average performance measure of games ending with\n",
        "p1 win: blue\n",
        "p2 win: red\n",
        "draw: green\n",
        "\n",
        "P1 is always much more likely to win, but as both agents become better draw becomes the most likely outcome"
      ]
    },
    {
      "metadata": {
        "id": "INsedUcyxJiv",
        "colab_type": "code",
        "colab": {
          "autoexec": {
            "startup": false,
            "wait_interval": 0
          },
          "base_uri": "https://localhost:8080/",
          "height": 348
        },
        "outputId": "0576b7f2-c663-44cf-8606-401306b57ef0",
        "executionInfo": {
          "status": "ok",
          "timestamp": 1526390521159,
          "user_tz": -60,
          "elapsed": 1123,
          "user": {
            "displayName": "Alexander Daskalov",
            "photoUrl": "//lh4.googleusercontent.com/-00gSL9VUiJE/AAAAAAAAAAI/AAAAAAAAAV0/DYgEK1HCpQI/s50-c-k-no/photo.jpg",
            "userId": "104815229193171950146"
          }
        }
      },
      "cell_type": "code",
      "source": [
        "      \n",
        "a = np.c_[perfh, perfh2,perfh3]\n",
        "plt.plot(a)\n",
        "plt.show()"
      ],
      "execution_count": 61,
      "outputs": [
        {
          "output_type": "display_data",
          "data": {
            "image/png": "[encoded data removed]",
            "text/plain": [
              "<matplotlib.figure.Figure at 0x7f1d058275c0>"
            ]
          },
          "metadata": {
            "tags": []
          }
        }
      ]
    },
    {
      "metadata": {
        "id": "H8an1DSK56Ms",
        "colab_type": "text"
      },
      "cell_type": "markdown",
      "source": [
        "This part is for testing the RL agent vs a player\n",
        "Here the agent is p1 and the player is p2\n",
        "the player is given the array of possible actions he can take and picks one by inputting the index of the desired action\n",
        "\n",
        "I was too lazy to implement some better visualzaiton, but even paint is good enough to simulate a game"
      ]
    },
    {
      "metadata": {
        "id": "zSXb9OI5FcUq",
        "colab_type": "code",
        "colab": {
          "autoexec": {
            "startup": false,
            "wait_interval": 0
          },
          "base_uri": "https://localhost:8080/",
          "height": 232
        },
        "outputId": "94cfbd33-eb67-43bc-aee4-cce236eaa04f",
        "executionInfo": {
          "status": "ok",
          "timestamp": 1526391705991,
          "user_tz": -60,
          "elapsed": 36421,
          "user": {
            "displayName": "Alexander Daskalov",
            "photoUrl": "//lh4.googleusercontent.com/-00gSL9VUiJE/AAAAAAAAAAI/AAAAAAAAAV0/DYgEK1HCpQI/s50-c-k-no/photo.jpg",
            "userId": "104815229193171950146"
          }
        }
      },
      "cell_type": "code",
      "source": [
        "state = [0,0,0,0,0,0,0,0,0]\n",
        "while True:\n",
        "    \n",
        "  p1actions = getPossibleActions(1,state)\n",
        "    \n",
        "  a = ag1.pickAction(p1actions, e = 0.0)\n",
        "  state = p1actions[int(a)]\n",
        "  print(state)\n",
        "\n",
        "  r = checkTerminal(state)\n",
        "  \n",
        "  if(r == 1):\n",
        "    \n",
        "      \n",
        "    print('p1 wins')\n",
        "    \n",
        "    break\n",
        "  if(r == 3):\n",
        "     \n",
        "     \n",
        "    print(\"draw\")\n",
        "    break\n",
        "\n",
        "  p2actions = getPossibleActions(2,state)\n",
        "  print(p2actions)\n",
        "  a = input(\"action n: \")\n",
        "  state = p2actions[int(a)]\n",
        "\n",
        "  r = checkTerminal(state)\n",
        "\n",
        "  if(r == 2):\n",
        "    print(\"p2 wins\")\n",
        "      \n",
        "    \n",
        "    break\n",
        "  if(r == 3):\n",
        "     \n",
        "    print(\"draw\")\n",
        "    break"
      ],
      "execution_count": 64,
      "outputs": [
        {
          "output_type": "stream",
          "text": [
            "[1, 0, 0, 0, 0, 0, 0, 0, 0]\n",
            "[[1, 2, 0, 0, 0, 0, 0, 0, 0], [1, 0, 2, 0, 0, 0, 0, 0, 0], [1, 0, 0, 2, 0, 0, 0, 0, 0], [1, 0, 0, 0, 2, 0, 0, 0, 0], [1, 0, 0, 0, 0, 2, 0, 0, 0], [1, 0, 0, 0, 0, 0, 2, 0, 0], [1, 0, 0, 0, 0, 0, 0, 2, 0], [1, 0, 0, 0, 0, 0, 0, 0, 2]]\n",
            "action n: 7\n",
            "[1, 0, 0, 0, 0, 0, 1, 0, 2]\n",
            "[[1, 2, 0, 0, 0, 0, 1, 0, 2], [1, 0, 2, 0, 0, 0, 1, 0, 2], [1, 0, 0, 2, 0, 0, 1, 0, 2], [1, 0, 0, 0, 2, 0, 1, 0, 2], [1, 0, 0, 0, 0, 2, 1, 0, 2], [1, 0, 0, 0, 0, 0, 1, 2, 2]]\n",
            "action n: 0\n",
            "[1, 2, 1, 0, 0, 0, 1, 0, 2]\n",
            "[[1, 2, 1, 2, 0, 0, 1, 0, 2], [1, 2, 1, 0, 2, 0, 1, 0, 2], [1, 2, 1, 0, 0, 2, 1, 0, 2], [1, 2, 1, 0, 0, 0, 1, 2, 2]]\n",
            "action n: 0\n",
            "[1, 2, 1, 2, 1, 0, 1, 0, 2]\n",
            "p1 wins\n"
          ],
          "name": "stdout"
        }
      ]
    },
    {
      "metadata": {
        "id": "79DB6xGkBw_U",
        "colab_type": "text"
      },
      "cell_type": "markdown",
      "source": [
        "Example game:\n",
        "\n",
        "this translates to:\n"
      ]
    },
    {
      "metadata": {
        "id": "2y-Q7-8Y6kuA",
        "colab_type": "text"
      },
      "cell_type": "markdown",
      "source": [
        "**Final remarks**\n",
        "\n",
        "After a good ammount of games the agent learns to chase a victory while preventing the other player from winning. \n",
        "Given enough training, p1 is sometimes capable of leanring the optimal strategy for the firt player. p1 has been observed to take one angle, then the opposite one forcing the second player to put one in the middle, then he plays one of the two remaiing corners, resulting in  two ways to win next turn.\n"
      ]
    }
  ]
}